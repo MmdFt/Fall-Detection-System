{
  "nbformat": 4,
  "nbformat_minor": 0,
  "metadata": {
    "colab": {
      "name": "Fall-Detection-System.ipynb",
      "provenance": [],
      "collapsed_sections": [],
      "authorship_tag": "ABX9TyO3OSna1p1enFEwFKQ/oC1P",
      "include_colab_link": true
    },
    "kernelspec": {
      "display_name": "Python 3",
      "name": "python3"
    },
    "language_info": {
      "name": "python"
    }
  },
  "cells": [
    {
      "cell_type": "markdown",
      "metadata": {
        "id": "view-in-github",
        "colab_type": "text"
      },
      "source": [
        "<a href=\"https://colab.research.google.com/github/mojtabaSefidi/Fall-Detection-System/blob/master/Fall_Detection_System.ipynb\" target=\"_parent\"><img src=\"https://colab.research.google.com/assets/colab-badge.svg\" alt=\"Open In Colab\"/></a>"
      ]
    },
    {
      "cell_type": "markdown",
      "metadata": {
        "id": "XIWFK9t8bVk1"
      },
      "source": [
        "Import libraries and frameworks"
      ]
    },
    {
      "cell_type": "code",
      "metadata": {
        "collapsed": true,
        "id": "qhvZxm9n-jmF"
      },
      "source": [
        "from sklearn import preprocessing\n",
        "import tensorflow as tf\n",
        "from math import sqrt\n",
        "import pandas as pd\n",
        "import numpy as np\n",
        "import glob\n",
        "import os\n",
        "window_size = 200\n"
      ],
      "execution_count": null,
      "outputs": []
    },
    {
      "cell_type": "markdown",
      "metadata": {
        "id": "ZOCs9eqca3NV"
      },
      "source": [
        "Get the sisfall and sisfall_enhanced dataset"
      ]
    },
    {
      "cell_type": "code",
      "metadata": {
        "id": "_XAle2BBAfFr"
      },
      "source": [
        "!gdown --id 1kyTRhIFhqwRkf9gERof1Xm5FVQ-klLVA\n",
        "!gdown --id 1gvOuxPc8dNgTnxuvPcVuCKifOf98-TV0\n",
        "!unzip SisFall_dataset.zip\n",
        "!unzip SisFall_enhanced.zip"
      ],
      "execution_count": null,
      "outputs": []
    },
    {
      "cell_type": "markdown",
      "metadata": {
        "id": "bgndfoWWKRIG"
      },
      "source": [
        "# Implementation"
      ]
    },
    {
      "cell_type": "markdown",
      "metadata": {
        "id": "8yS1sWUdbpyd"
      },
      "source": [
        "Get all addresses"
      ]
    },
    {
      "cell_type": "code",
      "metadata": {
        "id": "UoyddPaZ-jmI"
      },
      "source": [
        "def get_file_name(path):\n",
        "  allfiles = []\n",
        "  allFolders = glob.glob(path + \"*\")\n",
        "  for files in allFolders:\n",
        "      allfiles.append(glob.glob(files+\"/*.txt\"))\n",
        "  if 'desktop.ini' in allfiles:\n",
        "        allfiles.remove('desktop.ini')\n",
        "  return np.hstack(allfiles)"
      ],
      "execution_count": null,
      "outputs": []
    },
    {
      "cell_type": "code",
      "metadata": {
        "colab": {
          "base_uri": "https://localhost:8080/"
        },
        "id": "dsyujmnJwmS_",
        "outputId": "a54198e3-a0df-4147-f0a3-25c3308212ef"
      },
      "source": [
        "get_file_name(\"SisFall_dataset/\")"
      ],
      "execution_count": null,
      "outputs": [
        {
          "output_type": "execute_result",
          "data": {
            "text/plain": [
              "array(['SisFall_dataset/SE01/D11_SE01_R02.txt',\n",
              "       'SisFall_dataset/SE01/D04_SE01_R01.txt',\n",
              "       'SisFall_dataset/SE01/D12_SE01_R05.txt', ...,\n",
              "       'SisFall_dataset/SE09/D07_SE09_R04.txt',\n",
              "       'SisFall_dataset/SE09/D17_SE09_R01.txt',\n",
              "       'SisFall_dataset/SE09/D08_SE09_R05.txt'], dtype='<U37')"
            ]
          },
          "metadata": {},
          "execution_count": 4
        }
      ]
    },
    {
      "cell_type": "markdown",
      "metadata": {
        "id": "tCOqfWlyqoI3"
      },
      "source": [
        "read dataset from address path"
      ]
    },
    {
      "cell_type": "code",
      "metadata": {
        "id": "lkqhsxkq-jmJ"
      },
      "source": [
        "def read_data(data_path):\n",
        "    data = pd.read_csv(data_path, header=None)\n",
        "    data.columns = ['ADXL345_x', 'ADXL345_y', 'ADXL345_z', 'ITG3200_x', 'ITG3200_y', 'ITG3200_z', 'MMA8451Q_x',\n",
        "                    'MMA8451Q_y', 'MMA8451Q_z']\n",
        "    data['MMA8451Q_z'] = data['MMA8451Q_z'].map(lambda x: str(x)[:-1])\n",
        "    for name in data.columns :\n",
        "      data[name] = data[name].astype(float)\n",
        "    return data"
      ],
      "execution_count": null,
      "outputs": []
    },
    {
      "cell_type": "markdown",
      "metadata": {
        "id": "ewT7PQsBqt1U"
      },
      "source": [
        "Feature Extraction"
      ]
    },
    {
      "cell_type": "code",
      "metadata": {
        "id": "qJ6fSDVg-jmJ"
      },
      "source": [
        "def add_features(dataset,data_path):\n",
        "    new_dataset = pd.DataFrame()\n",
        "    new_dataset['acc_1'] = dataset.apply(\n",
        "        lambda row: sqrt((row.ADXL345_x ** 2 + row.ADXL345_y ** 2 + row.ADXL345_z ** 2)), axis=1)\n",
        "    new_dataset['acc_2'] = dataset.apply(\n",
        "        lambda row: sqrt((row.MMA8451Q_x ** 2 + row.MMA8451Q_y ** 2 + row.MMA8451Q_z ** 2)), axis=1)\n",
        "    new_dataset['geo'] = dataset.apply(\n",
        "        lambda row: sqrt((row.ITG3200_x ** 2 + row.ITG3200_y ** 2 + row.ITG3200_z ** 2)), axis=1)\n",
        "    new_dataset['label'] = get_label(data_path)\n",
        "    return np.round(new_dataset.to_numpy(),2)\n"
      ],
      "execution_count": null,
      "outputs": []
    },
    {
      "cell_type": "markdown",
      "metadata": {
        "id": "g7e7B8wIq6zL"
      },
      "source": [
        "Get the Label"
      ]
    },
    {
      "cell_type": "code",
      "metadata": {
        "id": "_s8X6VwxrIqS"
      },
      "source": [
        "def get_label(data_path):\n",
        "    label = data_path[21]\n",
        "    if label =='D':\n",
        "      return int(0)\n",
        "    elif label =='F':  \n",
        "      label_path = data_path.replace('dataset','enhanced')\n",
        "      labels = pd.read_csv(label_path,header=None)\n",
        "      labels[labels == 2] = 1\n",
        "      return labels\n"
      ],
      "execution_count": null,
      "outputs": []
    },
    {
      "cell_type": "markdown",
      "metadata": {
        "id": "YxcfzuvVq-wj"
      },
      "source": [
        "Split Dataset to train and test"
      ]
    },
    {
      "cell_type": "code",
      "metadata": {
        "id": "K25bf_9qJYoc"
      },
      "source": [
        "def split_address(dataset_address):\n",
        "  np.random.shuffle(dataset_address)\n",
        "  train, test = np.split(dataset_address, [int(len(dataset_address)*0.7)])\n",
        "  return train, test"
      ],
      "execution_count": null,
      "outputs": []
    },
    {
      "cell_type": "markdown",
      "metadata": {
        "id": "XsGm1z4krerJ"
      },
      "source": [
        "Extract features from All addresses"
      ]
    },
    {
      "cell_type": "code",
      "metadata": {
        "id": "6JxDiDpupQsq"
      },
      "source": [
        "def datasets_to_nparray(datasets_address_array):\n",
        "  result = np.empty((0, 4), int)\n",
        "  for address in datasets_address_array:\n",
        "    result = np.concatenate(\n",
        "        (result,add_features(read_data(address),address)),axis=0)\n",
        "  return result"
      ],
      "execution_count": null,
      "outputs": []
    },
    {
      "cell_type": "markdown",
      "metadata": {
        "id": "5A375jCSrO0a"
      },
      "source": [
        "Windowing of the dataset"
      ]
    },
    {
      "cell_type": "code",
      "metadata": {
        "id": "zYq6z8xraHNQ"
      },
      "source": [
        "def windowing(dataset,window_size):\n",
        "  window = window_size * (dataset.shape[1]-1)\n",
        "  cut = dataset.shape[0] % window_size\n",
        "  feature = dataset[:-cut,0:-1]\n",
        "  label = dataset[:-cut,-1]\n",
        "  feature = feature.ravel().reshape(feature.size//window,window)\n",
        "  label = label.reshape(label.size//window_size,window_size)\n",
        "  label = label.sum(axis=1)\n",
        "  label[label > 0] = 1\n",
        "  return feature,label"
      ],
      "execution_count": null,
      "outputs": []
    },
    {
      "cell_type": "markdown",
      "metadata": {
        "id": "77t5bmxwrrVR"
      },
      "source": [
        "Save the Train and Test Dataset as Tensor"
      ]
    },
    {
      "cell_type": "code",
      "metadata": {
        "id": "Emj874JvaBXp"
      },
      "source": [
        "def dataset_to_tensor(test,train,window_size):\n",
        "  test_feature , test_label = windowing(datasets_to_nparray(test),window_size)\n",
        "  np.savez('Sisfall_data_test', inputs=test_feature, targets=test_label)\n",
        "  train_feature , train_label = windowing(datasets_to_nparray(train),window_size)\n",
        "  np.savez('Sisfall_data_train', inputs=train_feature, targets=train_label)\n"
      ],
      "execution_count": null,
      "outputs": []
    },
    {
      "cell_type": "markdown",
      "metadata": {
        "id": "wXsG6DAmfm7m"
      },
      "source": [
        "# Main"
      ]
    },
    {
      "cell_type": "markdown",
      "metadata": {
        "id": "9oiw8XrQ3O59"
      },
      "source": [
        "Data Pre-processing"
      ]
    },
    {
      "cell_type": "code",
      "metadata": {
        "id": "KMg6G8lbp-XQ"
      },
      "source": [
        "train, test = split_address(get_file_name(\"SisFall_dataset/\"))"
      ],
      "execution_count": null,
      "outputs": []
    },
    {
      "cell_type": "code",
      "metadata": {
        "id": "UdqlG_F700h6"
      },
      "source": [
        "dataset_to_tensor(test,train,window_size)"
      ],
      "execution_count": null,
      "outputs": []
    },
    {
      "cell_type": "code",
      "metadata": {
        "id": "aps0tvot1X6l"
      },
      "source": [
        "npz = np.load(\"Sisfall_data_train.npz\")\n",
        "train_inputs = preprocessing.scale(npz[\"inputs\"].astype(np.float))\n",
        "train_targets = npz[\"targets\"].astype(np.int)\n",
        "\n",
        "\n",
        "npz = np.load(\"Sisfall_data_test.npz\")\n",
        "test_inputs = preprocessing.scale(npz[\"inputs\"].astype(np.float))\n",
        "test_targets = npz[\"targets\"].astype(np.int)"
      ],
      "execution_count": null,
      "outputs": []
    },
    {
      "cell_type": "code",
      "metadata": {
        "colab": {
          "base_uri": "https://localhost:8080/"
        },
        "id": "HpMHPA6cgVEA",
        "outputId": "cae09ad7-7f62-4fe9-ed5b-e42cbc139a87"
      },
      "source": [
        "print(train_inputs.shape)\n",
        "print(train_targets.shape)\n",
        "print(test_inputs.shape)\n",
        "print(test_targets.shape)"
      ],
      "execution_count": null,
      "outputs": [
        {
          "output_type": "stream",
          "name": "stdout",
          "text": [
            "(55365, 600)\n",
            "(55365,)\n",
            "(23929, 600)\n",
            "(23929,)\n"
          ]
        }
      ]
    },
    {
      "cell_type": "markdown",
      "metadata": {
        "id": "FsuvZYw8g1wu"
      },
      "source": [
        "Neural Network Training"
      ]
    },
    {
      "cell_type": "code",
      "metadata": {
        "id": "uPfuY5aotW4K",
        "colab": {
          "base_uri": "https://localhost:8080/"
        },
        "outputId": "9b71e8af-65d9-4f5e-df05-9cb73336663d"
      },
      "source": [
        "input_size = 600\n",
        "output_size = 1\n",
        "hidden_layer_size = 50\n",
        "\n",
        "model = tf.keras.Sequential([\n",
        "                             tf.keras.layers.Dense(input_size,activation=\"relu\"),\n",
        "                             tf.keras.layers.Dense(hidden_layer_size, activation=\"relu\"),\n",
        "                             tf.keras.layers.Dense(hidden_layer_size,activation=\"relu\"),\n",
        "                             tf.keras.layers.Dense(1, activation='sigmoid')\n",
        "])\n",
        "\n",
        "model.compile(optimizer='adam', loss='binary_crossentropy', metrics=['accuracy'])\n",
        "\n",
        "batch_size = 100\n",
        "max_epochs = 50\n",
        "\n",
        "model.fit(train_inputs,\n",
        "          train_targets,\n",
        "          batch_size=batch_size,\n",
        "          epochs=max_epochs,\n",
        "          shuffle = True,\n",
        "          verbose = 1\n",
        "          )"
      ],
      "execution_count": null,
      "outputs": [
        {
          "output_type": "stream",
          "name": "stdout",
          "text": [
            "Epoch 1/50\n",
            "554/554 [==============================] - 6s 9ms/step - loss: 0.1010 - accuracy: 0.9687\n",
            "Epoch 2/50\n",
            "554/554 [==============================] - 8s 14ms/step - loss: 0.0686 - accuracy: 0.9765\n",
            "Epoch 3/50\n",
            "554/554 [==============================] - 7s 12ms/step - loss: 0.0624 - accuracy: 0.9785\n",
            "Epoch 4/50\n",
            "554/554 [==============================] - 7s 12ms/step - loss: 0.0589 - accuracy: 0.9790\n",
            "Epoch 5/50\n",
            "554/554 [==============================] - 8s 14ms/step - loss: 0.0548 - accuracy: 0.9809\n",
            "Epoch 6/50\n",
            "554/554 [==============================] - 6s 11ms/step - loss: 0.0525 - accuracy: 0.9817\n",
            "Epoch 7/50\n",
            "554/554 [==============================] - 7s 13ms/step - loss: 0.0502 - accuracy: 0.9822\n",
            "Epoch 8/50\n",
            "554/554 [==============================] - 8s 15ms/step - loss: 0.0472 - accuracy: 0.9836\n",
            "Epoch 9/50\n",
            "554/554 [==============================] - 7s 12ms/step - loss: 0.0473 - accuracy: 0.9835\n",
            "Epoch 10/50\n",
            "554/554 [==============================] - 6s 10ms/step - loss: 0.0441 - accuracy: 0.9845\n",
            "Epoch 11/50\n",
            "554/554 [==============================] - 6s 11ms/step - loss: 0.0444 - accuracy: 0.9848\n",
            "Epoch 12/50\n",
            "554/554 [==============================] - 8s 14ms/step - loss: 0.0411 - accuracy: 0.9862\n",
            "Epoch 13/50\n",
            "554/554 [==============================] - 7s 13ms/step - loss: 0.0411 - accuracy: 0.9861\n",
            "Epoch 14/50\n",
            "554/554 [==============================] - 5s 10ms/step - loss: 0.0415 - accuracy: 0.9861\n",
            "Epoch 15/50\n",
            "554/554 [==============================] - 7s 13ms/step - loss: 0.0374 - accuracy: 0.9876\n",
            "Epoch 16/50\n",
            "554/554 [==============================] - 7s 12ms/step - loss: 0.0379 - accuracy: 0.9870\n",
            "Epoch 17/50\n",
            "554/554 [==============================] - 7s 13ms/step - loss: 0.0364 - accuracy: 0.9878\n",
            "Epoch 18/50\n",
            "554/554 [==============================] - 7s 13ms/step - loss: 0.0351 - accuracy: 0.9882\n",
            "Epoch 19/50\n",
            "554/554 [==============================] - 5s 8ms/step - loss: 0.0345 - accuracy: 0.9884\n",
            "Epoch 20/50\n",
            "554/554 [==============================] - 7s 13ms/step - loss: 0.0353 - accuracy: 0.9885\n",
            "Epoch 21/50\n",
            "554/554 [==============================] - 6s 12ms/step - loss: 0.0331 - accuracy: 0.9891\n",
            "Epoch 22/50\n",
            "554/554 [==============================] - 7s 12ms/step - loss: 0.0320 - accuracy: 0.9896\n",
            "Epoch 23/50\n",
            "554/554 [==============================] - 7s 13ms/step - loss: 0.0313 - accuracy: 0.9901\n",
            "Epoch 24/50\n",
            "554/554 [==============================] - 7s 13ms/step - loss: 0.0340 - accuracy: 0.9889\n",
            "Epoch 25/50\n",
            "554/554 [==============================] - 6s 10ms/step - loss: 0.0315 - accuracy: 0.9904\n",
            "Epoch 26/50\n",
            "554/554 [==============================] - 6s 11ms/step - loss: 0.0297 - accuracy: 0.9903\n",
            "Epoch 27/50\n",
            "554/554 [==============================] - 6s 11ms/step - loss: 0.0271 - accuracy: 0.9915\n",
            "Epoch 28/50\n",
            "554/554 [==============================] - 5s 8ms/step - loss: 0.0286 - accuracy: 0.9908\n",
            "Epoch 29/50\n",
            "554/554 [==============================] - 5s 8ms/step - loss: 0.0286 - accuracy: 0.9910\n",
            "Epoch 30/50\n",
            "554/554 [==============================] - 5s 9ms/step - loss: 0.0298 - accuracy: 0.9905\n",
            "Epoch 31/50\n",
            "554/554 [==============================] - 6s 10ms/step - loss: 0.0255 - accuracy: 0.9925\n",
            "Epoch 32/50\n",
            "554/554 [==============================] - 6s 11ms/step - loss: 0.0281 - accuracy: 0.9914\n",
            "Epoch 33/50\n",
            "554/554 [==============================] - 9s 16ms/step - loss: 0.0250 - accuracy: 0.9922\n",
            "Epoch 34/50\n",
            "554/554 [==============================] - 6s 10ms/step - loss: 0.0251 - accuracy: 0.9924\n",
            "Epoch 35/50\n",
            "554/554 [==============================] - 6s 11ms/step - loss: 0.0281 - accuracy: 0.9913\n",
            "Epoch 36/50\n",
            "554/554 [==============================] - 6s 11ms/step - loss: 0.0261 - accuracy: 0.9919\n",
            "Epoch 37/50\n",
            "554/554 [==============================] - 6s 10ms/step - loss: 0.0235 - accuracy: 0.9926\n",
            "Epoch 38/50\n",
            "554/554 [==============================] - 7s 12ms/step - loss: 0.0247 - accuracy: 0.9924\n",
            "Epoch 39/50\n",
            "554/554 [==============================] - 5s 9ms/step - loss: 0.0246 - accuracy: 0.9926\n",
            "Epoch 40/50\n",
            "554/554 [==============================] - 8s 14ms/step - loss: 0.0248 - accuracy: 0.9927\n",
            "Epoch 41/50\n",
            "554/554 [==============================] - 9s 17ms/step - loss: 0.0250 - accuracy: 0.9922\n",
            "Epoch 42/50\n",
            "554/554 [==============================] - 7s 12ms/step - loss: 0.0213 - accuracy: 0.9936\n",
            "Epoch 43/50\n",
            "554/554 [==============================] - 5s 9ms/step - loss: 0.0269 - accuracy: 0.9927\n",
            "Epoch 44/50\n",
            "554/554 [==============================] - 7s 12ms/step - loss: 0.0255 - accuracy: 0.9924\n",
            "Epoch 45/50\n",
            "554/554 [==============================] - 7s 13ms/step - loss: 0.0213 - accuracy: 0.9935\n",
            "Epoch 46/50\n",
            "554/554 [==============================] - 7s 12ms/step - loss: 0.0223 - accuracy: 0.9934\n",
            "Epoch 47/50\n",
            "554/554 [==============================] - 8s 14ms/step - loss: 0.0224 - accuracy: 0.9933\n",
            "Epoch 48/50\n",
            "554/554 [==============================] - 7s 12ms/step - loss: 0.0216 - accuracy: 0.9934\n",
            "Epoch 49/50\n",
            "554/554 [==============================] - 7s 13ms/step - loss: 0.0232 - accuracy: 0.9932\n",
            "Epoch 50/50\n",
            "554/554 [==============================] - 8s 14ms/step - loss: 0.0220 - accuracy: 0.9937\n"
          ]
        },
        {
          "output_type": "execute_result",
          "data": {
            "text/plain": [
              "<keras.callbacks.History at 0x7fa59165d2d0>"
            ]
          },
          "metadata": {},
          "execution_count": 16
        }
      ]
    },
    {
      "cell_type": "markdown",
      "metadata": {
        "id": "zdeLAiXZhKh9"
      },
      "source": [
        "Neural Network Evaluation"
      ]
    },
    {
      "cell_type": "code",
      "metadata": {
        "id": "knUqnrvvkFBY",
        "colab": {
          "base_uri": "https://localhost:8080/"
        },
        "outputId": "6a0baaa7-eafa-421e-f6c5-fb50f668bd4b"
      },
      "source": [
        "loss, accuracy = model.evaluate(test_inputs, test_targets, verbose=1)"
      ],
      "execution_count": null,
      "outputs": [
        {
          "output_type": "stream",
          "name": "stdout",
          "text": [
            "748/748 [==============================] - 4s 5ms/step - loss: 0.1198 - accuracy: 0.9791\n"
          ]
        }
      ]
    },
    {
      "cell_type": "markdown",
      "metadata": {
        "id": "LtPz_BhfhY0U"
      },
      "source": [
        "Confusion Matrix"
      ]
    },
    {
      "cell_type": "code",
      "metadata": {
        "id": "_Rca-mX_3uDt",
        "colab": {
          "base_uri": "https://localhost:8080/",
          "height": 168
        },
        "outputId": "507b60ae-2169-4f4c-f16a-8c6ca0f4e76a"
      },
      "source": [
        "predictions = model.predict(test_inputs)\n",
        "conf_matrix = tf.math.confusion_matrix(labels=test_targets,\n",
        "                                       predictions=predictions).numpy()\n",
        "print(\"------ Confusion Matrix Created ------\")\n",
        "print()\n",
        "print(conf_matrix)\n",
        "print()\n",
        "\n",
        "precision_1 = (conf_matrix[1][1]/(conf_matrix[1][1]+conf_matrix[0][1])).round(2)\n",
        "recall_1 = (conf_matrix[1][1]/(conf_matrix[1][1]+conf_matrix[1][0])).round(2)\n",
        "f1Score_1 = ((2 * precision_1 * recall_1)/(precision_1 + recall_1)).round(2)\n",
        "statics = pd.DataFrame([[precision_1,recall_1,f1Score_1]],columns=[\"Precision\",\"Recall\",\"F1score\"])\n",
        "statics"
      ],
      "execution_count": null,
      "outputs": [
        {
          "output_type": "stream",
          "name": "stdout",
          "text": [
            "------ Confusion Matrix Created ------\n",
            "\n",
            "[[22855     2]\n",
            " [  703   369]]\n",
            "\n"
          ]
        },
        {
          "output_type": "execute_result",
          "data": {
            "text/html": [
              "<div>\n",
              "<style scoped>\n",
              "    .dataframe tbody tr th:only-of-type {\n",
              "        vertical-align: middle;\n",
              "    }\n",
              "\n",
              "    .dataframe tbody tr th {\n",
              "        vertical-align: top;\n",
              "    }\n",
              "\n",
              "    .dataframe thead th {\n",
              "        text-align: right;\n",
              "    }\n",
              "</style>\n",
              "<table border=\"1\" class=\"dataframe\">\n",
              "  <thead>\n",
              "    <tr style=\"text-align: right;\">\n",
              "      <th></th>\n",
              "      <th>Precision</th>\n",
              "      <th>Recall</th>\n",
              "      <th>F1score</th>\n",
              "    </tr>\n",
              "  </thead>\n",
              "  <tbody>\n",
              "    <tr>\n",
              "      <th>0</th>\n",
              "      <td>0.99</td>\n",
              "      <td>0.34</td>\n",
              "      <td>0.51</td>\n",
              "    </tr>\n",
              "  </tbody>\n",
              "</table>\n",
              "</div>"
            ],
            "text/plain": [
              "   Precision  Recall  F1score\n",
              "0       0.99    0.34     0.51"
            ]
          },
          "metadata": {},
          "execution_count": 18
        }
      ]
    },
    {
      "cell_type": "markdown",
      "metadata": {
        "id": "BWOuA-MKiOGS"
      },
      "source": [
        "#### SVM and Logistic Regression"
      ]
    },
    {
      "cell_type": "code",
      "metadata": {
        "id": "Fi-sMrHTHaB_"
      },
      "source": [
        "from sklearn.metrics import classification_report, confusion_matrix\n",
        "from sklearn.linear_model import LogisticRegression\n",
        "from sklearn.neighbors import KNeighborsClassifier\n",
        "from sklearn.svm import LinearSVC\n",
        "x = train_inputs\n",
        "y = train_targets\n",
        "x_test = test_inputs\n",
        "y_test = test_targets"
      ],
      "execution_count": null,
      "outputs": []
    },
    {
      "cell_type": "markdown",
      "metadata": {
        "id": "woLdg7-0iXKR"
      },
      "source": [
        "Logistic Regression"
      ]
    },
    {
      "cell_type": "code",
      "metadata": {
        "id": "n8SCcfa_NS-U",
        "colab": {
          "base_uri": "https://localhost:8080/"
        },
        "outputId": "5ccfbe44-10b0-4bef-ccba-cc78d7a1f73d"
      },
      "source": [
        "reg = LogisticRegression()\n",
        "reg.fit(x,y)"
      ],
      "execution_count": null,
      "outputs": [
        {
          "output_type": "stream",
          "name": "stderr",
          "text": [
            "/usr/local/lib/python3.7/dist-packages/sklearn/linear_model/_logistic.py:818: ConvergenceWarning: lbfgs failed to converge (status=1):\n",
            "STOP: TOTAL NO. of ITERATIONS REACHED LIMIT.\n",
            "\n",
            "Increase the number of iterations (max_iter) or scale the data as shown in:\n",
            "    https://scikit-learn.org/stable/modules/preprocessing.html\n",
            "Please also refer to the documentation for alternative solver options:\n",
            "    https://scikit-learn.org/stable/modules/linear_model.html#logistic-regression\n",
            "  extra_warning_msg=_LOGISTIC_SOLVER_CONVERGENCE_MSG,\n"
          ]
        },
        {
          "output_type": "execute_result",
          "data": {
            "text/plain": [
              "LogisticRegression()"
            ]
          },
          "metadata": {},
          "execution_count": 20
        }
      ]
    },
    {
      "cell_type": "markdown",
      "metadata": {
        "id": "HKrfoewGiedJ"
      },
      "source": [
        "Logistic Regression Evaluation"
      ]
    },
    {
      "cell_type": "code",
      "metadata": {
        "id": "OFoXD4_h1fFt",
        "colab": {
          "base_uri": "https://localhost:8080/"
        },
        "outputId": "1b52450e-805b-41f9-9cd2-6db6aebb4ecd"
      },
      "source": [
        "print(\"score on test: \" + str(reg.score(x_test, y_test)))\n",
        "print(\"score on train: \"+ str(reg.score(x, y)))\n",
        "print()\n",
        "y_pred = reg.predict(x_test)\n",
        "print(classification_report(y_test, y_pred))\n",
        "print(confusion_matrix(y_test, y_pred))"
      ],
      "execution_count": null,
      "outputs": [
        {
          "output_type": "stream",
          "name": "stdout",
          "text": [
            "score on test: 0.9545739479292908\n",
            "score on train: 0.9593064210241127\n",
            "\n",
            "              precision    recall  f1-score   support\n",
            "\n",
            "           0       0.96      0.99      0.98     22857\n",
            "           1       0.48      0.17      0.25      1072\n",
            "\n",
            "    accuracy                           0.95     23929\n",
            "   macro avg       0.72      0.58      0.61     23929\n",
            "weighted avg       0.94      0.95      0.94     23929\n",
            "\n",
            "[[22658   199]\n",
            " [  888   184]]\n"
          ]
        }
      ]
    },
    {
      "cell_type": "markdown",
      "metadata": {
        "id": "5tHGnjVxikKg"
      },
      "source": [
        "Svm Model\n"
      ]
    },
    {
      "cell_type": "code",
      "metadata": {
        "id": "S1iUjGveOBH_",
        "colab": {
          "base_uri": "https://localhost:8080/"
        },
        "outputId": "8082fe34-de21-41dc-8a84-d553764ffd13"
      },
      "source": [
        "svm=LinearSVC(C = 0.0001)\n",
        "svm.fit(x, y)\n"
      ],
      "execution_count": null,
      "outputs": [
        {
          "output_type": "execute_result",
          "data": {
            "text/plain": [
              "LinearSVC(C=0.0001)"
            ]
          },
          "metadata": {},
          "execution_count": 22
        }
      ]
    },
    {
      "cell_type": "markdown",
      "metadata": {
        "id": "4psyZG_0inSI"
      },
      "source": [
        "SVM Model Evaluation"
      ]
    },
    {
      "cell_type": "code",
      "metadata": {
        "id": "8VW1xMT5UeVV",
        "colab": {
          "base_uri": "https://localhost:8080/"
        },
        "outputId": "fb06ff54-99bb-44f6-8f39-b32035031401"
      },
      "source": [
        "print(\"score on test: \"  + str(svm.score(x_test, y_test)))\n",
        "print(\"score on train: \" + str(svm.score(x, y)))\n",
        "print()\n",
        "y_pred = svm.predict(x_test)\n",
        "print(classification_report(y_test, y_pred))\n",
        "print(confusion_matrix(y_test, y_pred))"
      ],
      "execution_count": null,
      "outputs": [
        {
          "output_type": "stream",
          "name": "stdout",
          "text": [
            "score on test: 0.9542396255589453\n",
            "score on train: 0.9542851982299286\n",
            "\n",
            "              precision    recall  f1-score   support\n",
            "\n",
            "           0       0.96      1.00      0.98     22857\n",
            "           1       0.30      0.02      0.03      1072\n",
            "\n",
            "    accuracy                           0.95     23929\n",
            "   macro avg       0.63      0.51      0.50     23929\n",
            "weighted avg       0.93      0.95      0.93     23929\n",
            "\n",
            "[[22817    40]\n",
            " [ 1055    17]]\n"
          ]
        }
      ]
    },
    {
      "cell_type": "markdown",
      "metadata": {
        "id": "q6fdau1J-E2k"
      },
      "source": [
        "KNN implementation"
      ]
    },
    {
      "cell_type": "code",
      "metadata": {
        "id": "VjpM0Dc1-A_r",
        "colab": {
          "base_uri": "https://localhost:8080/"
        },
        "outputId": "604e9305-af3b-404c-e9ec-e8b567f1f3d6"
      },
      "source": [
        "knn = KNeighborsClassifier(n_neighbors=4)\n",
        "knn.fit(x, y)"
      ],
      "execution_count": null,
      "outputs": [
        {
          "output_type": "execute_result",
          "data": {
            "text/plain": [
              "KNeighborsClassifier(n_neighbors=4)"
            ]
          },
          "metadata": {},
          "execution_count": 24
        }
      ]
    },
    {
      "cell_type": "markdown",
      "metadata": {
        "id": "w9JCj7r8-H8z"
      },
      "source": [
        "KNN evaluation"
      ]
    },
    {
      "cell_type": "code",
      "metadata": {
        "id": "6vTqXG5E-A_s",
        "colab": {
          "base_uri": "https://localhost:8080/"
        },
        "outputId": "050aa268-6176-4e10-9b6c-2f0cbd650feb"
      },
      "source": [
        "y_pred = knn.predict(x_test)\n",
        "print(classification_report(y_test, y_pred))\n",
        "print(confusion_matrix(y_test, y_pred))"
      ],
      "execution_count": null,
      "outputs": [
        {
          "output_type": "stream",
          "name": "stdout",
          "text": [
            "              precision    recall  f1-score   support\n",
            "\n",
            "           0       0.98      1.00      0.99     22857\n",
            "           1       0.94      0.54      0.69      1072\n",
            "\n",
            "    accuracy                           0.98     23929\n",
            "   macro avg       0.96      0.77      0.84     23929\n",
            "weighted avg       0.98      0.98      0.97     23929\n",
            "\n",
            "[[22817    40]\n",
            " [  492   580]]\n"
          ]
        }
      ]
    },
    {
      "cell_type": "markdown",
      "metadata": {
        "id": "pSCxIger3fAy"
      },
      "source": [
        "Balancing the Dataset"
      ]
    },
    {
      "cell_type": "code",
      "metadata": {
        "id": "uomYoggjsnxh",
        "colab": {
          "base_uri": "https://localhost:8080/"
        },
        "outputId": "e7726467-0145-4279-bd53-5dad38b00eba"
      },
      "source": [
        "new_train_dataset = np.concatenate((train_inputs,train_targets.reshape((train_targets.shape[0],1))),axis=1)\n",
        "df = pd.DataFrame(new_train_dataset, columns = None)\n",
        "df.columns = [*df.columns[:-1], 'label']\n",
        "reps = [305 if val == 1 else 1 for val in df.label]\n",
        "df = df.loc[np.repeat(df.index.values, reps)].reset_index(drop=True)\n",
        "Balanced_train = df.to_numpy()\n",
        "print('Shape before Balancing :', new_train_dataset.shape)\n",
        "print('Shape After Balancing:', Balanced_train.shape)"
      ],
      "execution_count": null,
      "outputs": [
        {
          "output_type": "stream",
          "name": "stdout",
          "text": [
            "Shape before Balancing : (55365, 601)\n",
            "Shape After Balancing: (836949, 601)\n"
          ]
        }
      ]
    },
    {
      "cell_type": "markdown",
      "metadata": {
        "id": "IOri445n3iMx"
      },
      "source": [
        "Train the model with Balanced dataset"
      ]
    },
    {
      "cell_type": "code",
      "metadata": {
        "id": "kZk2C4EDsnxi",
        "colab": {
          "base_uri": "https://localhost:8080/"
        },
        "outputId": "ad106013-a1f3-45e5-a937-966afbc92b34"
      },
      "source": [
        "input_size = 600\n",
        "output_size = 1\n",
        "hidden_layer_size = 50\n",
        "\n",
        "model = tf.keras.Sequential([\n",
        "                             tf.keras.layers.Dense(input_size,activation=\"relu\"),\n",
        "                             tf.keras.layers.Dense(hidden_layer_size, activation=\"relu\"),\n",
        "                             tf.keras.layers.Dense(hidden_layer_size,activation=\"relu\"),\n",
        "                             tf.keras.layers.Dense(1, activation='sigmoid')\n",
        "])\n",
        "\n",
        "model.compile(optimizer='adam', loss='binary_crossentropy', metrics=['accuracy'])\n",
        "\n",
        "batch_size = 100\n",
        "max_epochs = 50\n",
        "\n",
        "model.fit(Balanced_train[:,:-1],\n",
        "          Balanced_train[:,-1],\n",
        "          batch_size=batch_size,\n",
        "          epochs=max_epochs,\n",
        "          shuffle = True,\n",
        "          verbose = 1\n",
        "          )"
      ],
      "execution_count": null,
      "outputs": [
        {
          "output_type": "stream",
          "name": "stdout",
          "text": [
            "Epoch 1/50\n",
            "8370/8370 [==============================] - 59s 7ms/step - loss: 0.0494 - accuracy: 0.9845\n",
            "Epoch 2/50\n",
            "8370/8370 [==============================] - 57s 7ms/step - loss: 0.0275 - accuracy: 0.9924\n",
            "Epoch 3/50\n",
            "8370/8370 [==============================] - 57s 7ms/step - loss: 0.0204 - accuracy: 0.9945\n",
            "Epoch 4/50\n",
            "8370/8370 [==============================] - 58s 7ms/step - loss: 0.0164 - accuracy: 0.9958\n",
            "Epoch 5/50\n",
            "8370/8370 [==============================] - 58s 7ms/step - loss: 0.0137 - accuracy: 0.9965\n",
            "Epoch 6/50\n",
            "8370/8370 [==============================] - 58s 7ms/step - loss: 0.0111 - accuracy: 0.9972\n",
            "Epoch 7/50\n",
            "8370/8370 [==============================] - 58s 7ms/step - loss: 0.0098 - accuracy: 0.9975\n",
            "Epoch 8/50\n",
            "8370/8370 [==============================] - 58s 7ms/step - loss: 0.0087 - accuracy: 0.9978\n",
            "Epoch 9/50\n",
            "8370/8370 [==============================] - 59s 7ms/step - loss: 0.0074 - accuracy: 0.9982\n",
            "Epoch 10/50\n",
            "8370/8370 [==============================] - 59s 7ms/step - loss: 0.0067 - accuracy: 0.9983\n",
            "Epoch 11/50\n",
            "8370/8370 [==============================] - 59s 7ms/step - loss: 0.0060 - accuracy: 0.9984\n",
            "Epoch 12/50\n",
            "8370/8370 [==============================] - 58s 7ms/step - loss: 0.0054 - accuracy: 0.9987\n",
            "Epoch 13/50\n",
            "8370/8370 [==============================] - 57s 7ms/step - loss: 0.0053 - accuracy: 0.9986\n",
            "Epoch 14/50\n",
            "8370/8370 [==============================] - 57s 7ms/step - loss: 0.0046 - accuracy: 0.9988\n",
            "Epoch 15/50\n",
            "8370/8370 [==============================] - 57s 7ms/step - loss: 0.0047 - accuracy: 0.9988\n",
            "Epoch 16/50\n",
            "8370/8370 [==============================] - 57s 7ms/step - loss: 0.0041 - accuracy: 0.9990\n",
            "Epoch 17/50\n",
            "8370/8370 [==============================] - 57s 7ms/step - loss: 0.0036 - accuracy: 0.9991\n",
            "Epoch 18/50\n",
            "8370/8370 [==============================] - 57s 7ms/step - loss: 0.0038 - accuracy: 0.9991\n",
            "Epoch 19/50\n",
            "8370/8370 [==============================] - 58s 7ms/step - loss: 0.0037 - accuracy: 0.9991\n",
            "Epoch 20/50\n",
            "8370/8370 [==============================] - 58s 7ms/step - loss: 0.0036 - accuracy: 0.9991\n",
            "Epoch 21/50\n",
            "8370/8370 [==============================] - 59s 7ms/step - loss: 0.0033 - accuracy: 0.9992\n",
            "Epoch 22/50\n",
            "8370/8370 [==============================] - 59s 7ms/step - loss: 0.0037 - accuracy: 0.9991\n",
            "Epoch 23/50\n",
            "8370/8370 [==============================] - 58s 7ms/step - loss: 0.0026 - accuracy: 0.9993\n",
            "Epoch 24/50\n",
            "8370/8370 [==============================] - 57s 7ms/step - loss: 0.0029 - accuracy: 0.9993\n",
            "Epoch 25/50\n",
            "8370/8370 [==============================] - 58s 7ms/step - loss: 0.0031 - accuracy: 0.9992\n",
            "Epoch 26/50\n",
            "8370/8370 [==============================] - 57s 7ms/step - loss: 0.0026 - accuracy: 0.9993\n",
            "Epoch 27/50\n",
            "8370/8370 [==============================] - 57s 7ms/step - loss: 0.0026 - accuracy: 0.9994\n",
            "Epoch 28/50\n",
            "8370/8370 [==============================] - 57s 7ms/step - loss: 0.0026 - accuracy: 0.9994\n",
            "Epoch 29/50\n",
            "8370/8370 [==============================] - 57s 7ms/step - loss: 0.0026 - accuracy: 0.9994\n",
            "Epoch 30/50\n",
            "8370/8370 [==============================] - 57s 7ms/step - loss: 0.0028 - accuracy: 0.9994\n",
            "Epoch 31/50\n",
            "8370/8370 [==============================] - 57s 7ms/step - loss: 0.0024 - accuracy: 0.9994\n",
            "Epoch 32/50\n",
            "8370/8370 [==============================] - 57s 7ms/step - loss: 0.0025 - accuracy: 0.9994\n",
            "Epoch 33/50\n",
            "8370/8370 [==============================] - 57s 7ms/step - loss: 0.0023 - accuracy: 0.9994\n",
            "Epoch 34/50\n",
            "8370/8370 [==============================] - 57s 7ms/step - loss: 0.0025 - accuracy: 0.9994\n",
            "Epoch 35/50\n",
            "8370/8370 [==============================] - 57s 7ms/step - loss: 0.0027 - accuracy: 0.9995\n",
            "Epoch 36/50\n",
            "8370/8370 [==============================] - 58s 7ms/step - loss: 0.0023 - accuracy: 0.9995\n",
            "Epoch 37/50\n",
            "8370/8370 [==============================] - 57s 7ms/step - loss: 0.0024 - accuracy: 0.9995\n",
            "Epoch 38/50\n",
            "8370/8370 [==============================] - 57s 7ms/step - loss: 0.0026 - accuracy: 0.9995\n",
            "Epoch 39/50\n",
            "8370/8370 [==============================] - 58s 7ms/step - loss: 0.0021 - accuracy: 0.9995\n",
            "Epoch 40/50\n",
            "8370/8370 [==============================] - 57s 7ms/step - loss: 0.0026 - accuracy: 0.9995\n",
            "Epoch 41/50\n",
            "8370/8370 [==============================] - 58s 7ms/step - loss: 0.0026 - accuracy: 0.9994\n",
            "Epoch 42/50\n",
            "8370/8370 [==============================] - 58s 7ms/step - loss: 0.0022 - accuracy: 0.9995\n",
            "Epoch 43/50\n",
            "8370/8370 [==============================] - 59s 7ms/step - loss: 0.0023 - accuracy: 0.9995\n",
            "Epoch 44/50\n",
            "8370/8370 [==============================] - 59s 7ms/step - loss: 0.0022 - accuracy: 0.9995\n",
            "Epoch 45/50\n",
            "8370/8370 [==============================] - 58s 7ms/step - loss: 0.0024 - accuracy: 0.9995\n",
            "Epoch 46/50\n",
            "8370/8370 [==============================] - 57s 7ms/step - loss: 0.0029 - accuracy: 0.9995\n",
            "Epoch 47/50\n",
            "8370/8370 [==============================] - 57s 7ms/step - loss: 0.0022 - accuracy: 0.9996\n",
            "Epoch 48/50\n",
            "8370/8370 [==============================] - 58s 7ms/step - loss: 0.0026 - accuracy: 0.9995\n",
            "Epoch 49/50\n",
            "8370/8370 [==============================] - 58s 7ms/step - loss: 0.0026 - accuracy: 0.9995\n",
            "Epoch 50/50\n",
            "8370/8370 [==============================] - 58s 7ms/step - loss: 0.0033 - accuracy: 0.9995\n"
          ]
        },
        {
          "output_type": "execute_result",
          "data": {
            "text/plain": [
              "<keras.callbacks.History at 0x7fa588fb70d0>"
            ]
          },
          "metadata": {},
          "execution_count": 27
        }
      ]
    },
    {
      "cell_type": "markdown",
      "metadata": {
        "id": "UHad5CBL3mzQ"
      },
      "source": [
        "Testing the model"
      ]
    },
    {
      "cell_type": "code",
      "metadata": {
        "colab": {
          "base_uri": "https://localhost:8080/"
        },
        "id": "sQRdJa3Usnxk",
        "outputId": "1859df58-1a01-4791-a6b6-bc128b192d43"
      },
      "source": [
        "loss, accuracy = model.evaluate(test_inputs, test_targets, verbose=1)\n"
      ],
      "execution_count": null,
      "outputs": [
        {
          "output_type": "stream",
          "name": "stdout",
          "text": [
            "748/748 [==============================] - 2s 2ms/step - loss: 0.4430 - accuracy: 0.9763\n"
          ]
        }
      ]
    },
    {
      "cell_type": "markdown",
      "metadata": {
        "id": "gOKQgBa13ocy"
      },
      "source": [
        "Evaluation of the model"
      ]
    },
    {
      "cell_type": "code",
      "metadata": {
        "colab": {
          "base_uri": "https://localhost:8080/",
          "height": 168
        },
        "id": "FCxvTAtcsnxk",
        "outputId": "e0347f0f-5087-43eb-89b7-e4805cc2ee0b"
      },
      "source": [
        "predictions = model.predict(test_inputs)\n",
        "conf_matrix = tf.math.confusion_matrix(labels=test_targets,\n",
        "                                       predictions=predictions).numpy()\n",
        "print(\"------ Confusion Matrix Created ------\")\n",
        "print()\n",
        "print(conf_matrix)\n",
        "print()\n",
        "\n",
        "precision_2 = (conf_matrix[1][1]/(conf_matrix[1][1]+conf_matrix[0][1])).round(2)\n",
        "recall_2 = (conf_matrix[1][1]/(conf_matrix[1][1]+conf_matrix[1][0])).round(2)\n",
        "f1Score_2 = ((2 * precision_2 * recall_2)/(precision_2 + recall_2)).round(2)\n",
        "statics = pd.DataFrame([[precision_2,recall_2,f1Score_2]],columns=[\"Precision\",\"Recall\",\"F1score\"])\n",
        "statics"
      ],
      "execution_count": null,
      "outputs": [
        {
          "output_type": "stream",
          "name": "stdout",
          "text": [
            "------ Confusion Matrix Created ------\n",
            "\n",
            "[[22774    83]\n",
            " [  450   622]]\n",
            "\n"
          ]
        },
        {
          "output_type": "execute_result",
          "data": {
            "text/html": [
              "<div>\n",
              "<style scoped>\n",
              "    .dataframe tbody tr th:only-of-type {\n",
              "        vertical-align: middle;\n",
              "    }\n",
              "\n",
              "    .dataframe tbody tr th {\n",
              "        vertical-align: top;\n",
              "    }\n",
              "\n",
              "    .dataframe thead th {\n",
              "        text-align: right;\n",
              "    }\n",
              "</style>\n",
              "<table border=\"1\" class=\"dataframe\">\n",
              "  <thead>\n",
              "    <tr style=\"text-align: right;\">\n",
              "      <th></th>\n",
              "      <th>Precision</th>\n",
              "      <th>Recall</th>\n",
              "      <th>F1score</th>\n",
              "    </tr>\n",
              "  </thead>\n",
              "  <tbody>\n",
              "    <tr>\n",
              "      <th>0</th>\n",
              "      <td>0.88</td>\n",
              "      <td>0.58</td>\n",
              "      <td>0.7</td>\n",
              "    </tr>\n",
              "  </tbody>\n",
              "</table>\n",
              "</div>"
            ],
            "text/plain": [
              "   Precision  Recall  F1score\n",
              "0       0.88    0.58      0.7"
            ]
          },
          "metadata": {},
          "execution_count": 29
        }
      ]
    },
    {
      "cell_type": "markdown",
      "metadata": {
        "id": "dLEi0YD54kid"
      },
      "source": [
        "Balancing the train dataset for Svm and Logistic Regression Model"
      ]
    },
    {
      "cell_type": "code",
      "metadata": {
        "colab": {
          "base_uri": "https://localhost:8080/"
        },
        "id": "CUfCYwd4qfiL",
        "outputId": "5a99fead-fa3e-496f-8a45-07925da75f3a"
      },
      "source": [
        "new_train_dataset = np.concatenate((train_inputs,train_targets.reshape((train_targets.shape[0],1))),axis=1)\n",
        "df = pd.DataFrame(new_train_dataset, columns = None)\n",
        "df.columns = [*df.columns[:-1], 'label']\n",
        "reps = [128 if val == 1 else 1 for val in df.label]\n",
        "df = df.loc[np.repeat(df.index.values, reps)].reset_index(drop=True)\n",
        "Balanced_train = df.to_numpy()\n",
        "print('Shape before Balancing :', new_train_dataset.shape)\n",
        "print('Shape After Balancing:', Balanced_train.shape)"
      ],
      "execution_count": null,
      "outputs": [
        {
          "output_type": "stream",
          "name": "stdout",
          "text": [
            "Shape before Balancing : (55365, 601)\n",
            "Shape After Balancing: (381882, 601)\n"
          ]
        }
      ]
    },
    {
      "cell_type": "markdown",
      "metadata": {
        "id": "hlQKZ6E04uVs"
      },
      "source": [
        "Logistic Regression After Balancing"
      ]
    },
    {
      "cell_type": "code",
      "metadata": {
        "colab": {
          "base_uri": "https://localhost:8080/"
        },
        "id": "Rn9NuCk5V7EP",
        "outputId": "03ae6213-4c48-4529-f549-6f3e7aaae804"
      },
      "source": [
        "reg = LogisticRegression()\n",
        "reg.fit(Balanced_train[:,:-1],Balanced_train[:,-1])"
      ],
      "execution_count": null,
      "outputs": [
        {
          "output_type": "stream",
          "name": "stderr",
          "text": [
            "/usr/local/lib/python3.7/dist-packages/sklearn/linear_model/_logistic.py:818: ConvergenceWarning: lbfgs failed to converge (status=1):\n",
            "STOP: TOTAL NO. of ITERATIONS REACHED LIMIT.\n",
            "\n",
            "Increase the number of iterations (max_iter) or scale the data as shown in:\n",
            "    https://scikit-learn.org/stable/modules/preprocessing.html\n",
            "Please also refer to the documentation for alternative solver options:\n",
            "    https://scikit-learn.org/stable/modules/linear_model.html#logistic-regression\n",
            "  extra_warning_msg=_LOGISTIC_SOLVER_CONVERGENCE_MSG,\n"
          ]
        },
        {
          "output_type": "execute_result",
          "data": {
            "text/plain": [
              "LogisticRegression()"
            ]
          },
          "metadata": {},
          "execution_count": 31
        }
      ]
    },
    {
      "cell_type": "markdown",
      "metadata": {
        "id": "ujQVAxmO4zjU"
      },
      "source": [
        "Logistic Regression Evaluation"
      ]
    },
    {
      "cell_type": "code",
      "metadata": {
        "colab": {
          "base_uri": "https://localhost:8080/"
        },
        "id": "6lvoOIb-V7Ea",
        "outputId": "7f668dda-d339-4dbc-a736-09d8de3db2eb"
      },
      "source": [
        "print(\"score on test: \"  + str(reg.score(x_test, y_test)))\n",
        "print(\"score on train: \" + str(reg.score(Balanced_train[:,:-1],Balanced_train[:,-1])))\n",
        "y_pred = reg.predict(x_test)\n",
        "print(classification_report(y_test, y_pred))\n",
        "print(confusion_matrix(y_test, y_pred))"
      ],
      "execution_count": null,
      "outputs": [
        {
          "output_type": "stream",
          "name": "stdout",
          "text": [
            "score on test: 0.4821346483346567\n",
            "score on train: 0.9038158384003435\n",
            "              precision    recall  f1-score   support\n",
            "\n",
            "           0       0.99      0.46      0.63     22857\n",
            "           1       0.07      0.92      0.14      1072\n",
            "\n",
            "    accuracy                           0.48     23929\n",
            "   macro avg       0.53      0.69      0.38     23929\n",
            "weighted avg       0.95      0.48      0.61     23929\n",
            "\n",
            "[[10555 12302]\n",
            " [   90   982]]\n"
          ]
        }
      ]
    },
    {
      "cell_type": "markdown",
      "metadata": {
        "id": "OWTN6mcX45fG"
      },
      "source": [
        "SVM After Balancing"
      ]
    },
    {
      "cell_type": "code",
      "metadata": {
        "colab": {
          "base_uri": "https://localhost:8080/"
        },
        "id": "5qeuyWYhV7Eb",
        "outputId": "a3de309a-dc3c-4502-caf3-7d99c1fa0037"
      },
      "source": [
        "svm=LinearSVC(C=0.0001)\n",
        "svm.fit(Balanced_train[:,:-1],Balanced_train[:,-1])\n"
      ],
      "execution_count": null,
      "outputs": [
        {
          "output_type": "execute_result",
          "data": {
            "text/plain": [
              "LinearSVC(C=0.0001)"
            ]
          },
          "metadata": {},
          "execution_count": 33
        }
      ]
    },
    {
      "cell_type": "markdown",
      "metadata": {
        "id": "-d1eQYnz47Hz"
      },
      "source": [
        "SVM Evaluation"
      ]
    },
    {
      "cell_type": "code",
      "metadata": {
        "colab": {
          "base_uri": "https://localhost:8080/"
        },
        "id": "opk3vCYBV7Ed",
        "outputId": "f4290de2-3dfa-497d-8e19-5b8688967a74"
      },
      "source": [
        "print(\"score on test: \" + str(svm.score(x_test, y_test)))\n",
        "print(\"score on train: \"+ str(svm.score(Balanced_train[:,:-1], Balanced_train[:,-1])))\n",
        "y_pred = svm.predict(x_test)\n",
        "print(classification_report(y_test, y_pred))\n",
        "print(confusion_matrix(y_test, y_pred))"
      ],
      "execution_count": null,
      "outputs": [
        {
          "output_type": "stream",
          "name": "stdout",
          "text": [
            "score on test: 0.28045467842367\n",
            "score on train: 0.8886802729638998\n",
            "              precision    recall  f1-score   support\n",
            "\n",
            "           0       0.99      0.25      0.40     22857\n",
            "           1       0.06      0.96      0.11      1072\n",
            "\n",
            "    accuracy                           0.28     23929\n",
            "   macro avg       0.52      0.60      0.25     23929\n",
            "weighted avg       0.95      0.28      0.38     23929\n",
            "\n",
            "[[ 5681 17176]\n",
            " [   42  1030]]\n"
          ]
        }
      ]
    },
    {
      "cell_type": "markdown",
      "metadata": {
        "id": "uNUP6I8p2XKK"
      },
      "source": [
        "Balancing the dataset for KNN model"
      ]
    },
    {
      "cell_type": "code",
      "metadata": {
        "colab": {
          "base_uri": "https://localhost:8080/"
        },
        "id": "ngstARIu2XxR",
        "outputId": "beb795f3-2057-4e7a-b784-7a359cd926c9"
      },
      "source": [
        "new_train_dataset = np.concatenate((train_inputs,train_targets.reshape((train_targets.shape[0],1))),axis=1)\n",
        "df = pd.DataFrame(new_train_dataset, columns = None)\n",
        "df.columns = [*df.columns[:-1], 'label']\n",
        "reps = [64 if val == 1 else 1 for val in df.label]\n",
        "df = df.loc[np.repeat(df.index.values, reps)].reset_index(drop=True)\n",
        "Balanced_train = df.to_numpy()\n",
        "print('Shape before Balancing :', new_train_dataset.shape)\n",
        "print('Shape After Balancing:', Balanced_train.shape)"
      ],
      "execution_count": null,
      "outputs": [
        {
          "output_type": "stream",
          "name": "stdout",
          "text": [
            "Shape before Balancing : (55365, 601)\n",
            "Shape After Balancing: (217338, 601)\n"
          ]
        }
      ]
    },
    {
      "cell_type": "markdown",
      "metadata": {
        "id": "arg3l_XZ2wx1"
      },
      "source": [
        "Balance KNN implementation"
      ]
    },
    {
      "cell_type": "code",
      "metadata": {
        "colab": {
          "base_uri": "https://localhost:8080/"
        },
        "id": "u0Mdmn-p2wx1",
        "outputId": "2f995039-d6b0-4b2a-f75d-adf9b9924752"
      },
      "source": [
        "knn = KNeighborsClassifier(n_neighbors=4)\n",
        "knn.fit(Balanced_train[:,:-1],Balanced_train[:,-1])"
      ],
      "execution_count": null,
      "outputs": [
        {
          "output_type": "execute_result",
          "data": {
            "text/plain": [
              "KNeighborsClassifier(n_neighbors=4)"
            ]
          },
          "metadata": {},
          "execution_count": 36
        }
      ]
    },
    {
      "cell_type": "markdown",
      "metadata": {
        "id": "zI4VGFO52wx1"
      },
      "source": [
        "Balanced KNN evaluation"
      ]
    },
    {
      "cell_type": "code",
      "metadata": {
        "colab": {
          "base_uri": "https://localhost:8080/"
        },
        "id": "XUIghQdX2wx1",
        "outputId": "4c3eb440-8849-4bac-a75b-35ef4e024f34"
      },
      "source": [
        "y_pred = knn.predict(x_test)\n",
        "print(classification_report(y_test, y_pred))\n",
        "print(confusion_matrix(y_test, y_pred))"
      ],
      "execution_count": null,
      "outputs": [
        {
          "output_type": "stream",
          "name": "stdout",
          "text": [
            "              precision    recall  f1-score   support\n",
            "\n",
            "           0       0.99      0.99      0.99     22857\n",
            "           1       0.72      0.74      0.73      1072\n",
            "\n",
            "    accuracy                           0.98     23929\n",
            "   macro avg       0.85      0.86      0.86     23929\n",
            "weighted avg       0.98      0.98      0.98     23929\n",
            "\n",
            "[[22549   308]\n",
            " [  283   789]]\n"
          ]
        }
      ]
    },
    {
      "cell_type": "markdown",
      "metadata": {
        "id": "4CzHQADbnzVt"
      },
      "source": [
        "Prediction based on Ensemble Concept"
      ]
    },
    {
      "cell_type": "code",
      "metadata": {
        "colab": {
          "base_uri": "https://localhost:8080/"
        },
        "id": "fEiwDqETny3u",
        "outputId": "21d8f5f8-d722-41cb-db38-f6c558915c75"
      },
      "source": [
        "def ensmble_concept(Knn_prediction,model_prediction):\n",
        "  return np.logical_or(Knn_prediction , model_prediction.T.ravel().round())\n",
        "\n",
        "result = ensmble_concept(y_pred,predictions)\n",
        "print(classification_report(y_test, result))\n",
        "print(confusion_matrix(y_test, result))"
      ],
      "execution_count": null,
      "outputs": [
        {
          "output_type": "stream",
          "name": "stdout",
          "text": [
            "              precision    recall  f1-score   support\n",
            "\n",
            "           0       0.99      0.98      0.99     22857\n",
            "           1       0.65      0.81      0.72      1072\n",
            "\n",
            "    accuracy                           0.97     23929\n",
            "   macro avg       0.82      0.90      0.85     23929\n",
            "weighted avg       0.98      0.97      0.97     23929\n",
            "\n",
            "[[22379   478]\n",
            " [  201   871]]\n"
          ]
        }
      ]
    },
    {
      "cell_type": "markdown",
      "metadata": {
        "id": "TT1qAAPVHRDD"
      },
      "source": [
        "Models' Summary"
      ]
    },
    {
      "cell_type": "code",
      "metadata": {
        "colab": {
          "base_uri": "https://localhost:8080/",
          "height": 363
        },
        "id": "E4-Ab6KrGkNv",
        "outputId": "37cb1cb3-3976-49d6-d813-eb690ea4ed86"
      },
      "source": [
        "conclusion = pd.DataFrame([['Neural Network',precision_1,recall_1,f1Score_1],\n",
        "              ['Logistic Regression',0.53,0.17,0.26],\n",
        "              ['SVM',0.38,0.01,0.03],\n",
        "              ['KNN',0.94,0.56,0.70],\n",
        "              ['Neural Network after Balancing',precision_2,recall_2,f1Score_2],\n",
        "              ['Logistic Regression after Balancing',0.08,0.93,0.15],\n",
        "              ['SVM after Balancing',0.06,0.97,0.11],\n",
        "              ['KNN after Balancing',0.73,0.73,0.73],\n",
        "              ['Ensemble concept after Balancing',0.65,0.81,0.72]],\n",
        "              columns=[\"Algorithm\",\"Precision\",\"Recall\",\"F1score\"])\n",
        "conclusion = conclusion.set_index('Algorithm')\n",
        "conclusion.style.background_gradient(cmap=\"YlOrRd\")\n"
      ],
      "execution_count": null,
      "outputs": [
        {
          "output_type": "execute_result",
          "data": {
            "text/html": [
              "<style  type=\"text/css\" >\n",
              "#T_611e1a9c_5135_11ec_be3e_0242ac1c0002row0_col0,#T_611e1a9c_5135_11ec_be3e_0242ac1c0002row6_col1,#T_611e1a9c_5135_11ec_be3e_0242ac1c0002row7_col2{\n",
              "            background-color:  #800026;\n",
              "            color:  #f1f1f1;\n",
              "        }#T_611e1a9c_5135_11ec_be3e_0242ac1c0002row0_col1,#T_611e1a9c_5135_11ec_be3e_0242ac1c0002row2_col0{\n",
              "            background-color:  #febb56;\n",
              "            color:  #000000;\n",
              "        }#T_611e1a9c_5135_11ec_be3e_0242ac1c0002row0_col2{\n",
              "            background-color:  #f03523;\n",
              "            color:  #f1f1f1;\n",
              "        }#T_611e1a9c_5135_11ec_be3e_0242ac1c0002row1_col0{\n",
              "            background-color:  #fd8a3b;\n",
              "            color:  #000000;\n",
              "        }#T_611e1a9c_5135_11ec_be3e_0242ac1c0002row1_col1{\n",
              "            background-color:  #ffe793;\n",
              "            color:  #000000;\n",
              "        }#T_611e1a9c_5135_11ec_be3e_0242ac1c0002row1_col2{\n",
              "            background-color:  #fec05b;\n",
              "            color:  #000000;\n",
              "        }#T_611e1a9c_5135_11ec_be3e_0242ac1c0002row2_col1,#T_611e1a9c_5135_11ec_be3e_0242ac1c0002row2_col2,#T_611e1a9c_5135_11ec_be3e_0242ac1c0002row6_col0{\n",
              "            background-color:  #ffffcc;\n",
              "            color:  #000000;\n",
              "        }#T_611e1a9c_5135_11ec_be3e_0242ac1c0002row3_col0{\n",
              "            background-color:  #990026;\n",
              "            color:  #f1f1f1;\n",
              "        }#T_611e1a9c_5135_11ec_be3e_0242ac1c0002row3_col1{\n",
              "            background-color:  #fc6832;\n",
              "            color:  #000000;\n",
              "        }#T_611e1a9c_5135_11ec_be3e_0242ac1c0002row3_col2,#T_611e1a9c_5135_11ec_be3e_0242ac1c0002row4_col2,#T_611e1a9c_5135_11ec_be3e_0242ac1c0002row5_col1{\n",
              "            background-color:  #930026;\n",
              "            color:  #f1f1f1;\n",
              "        }#T_611e1a9c_5135_11ec_be3e_0242ac1c0002row4_col0{\n",
              "            background-color:  #b90026;\n",
              "            color:  #f1f1f1;\n",
              "        }#T_611e1a9c_5135_11ec_be3e_0242ac1c0002row4_col1{\n",
              "            background-color:  #fc5d2e;\n",
              "            color:  #000000;\n",
              "        }#T_611e1a9c_5135_11ec_be3e_0242ac1c0002row5_col0{\n",
              "            background-color:  #fffcc5;\n",
              "            color:  #000000;\n",
              "        }#T_611e1a9c_5135_11ec_be3e_0242ac1c0002row5_col2{\n",
              "            background-color:  #ffe691;\n",
              "            color:  #000000;\n",
              "        }#T_611e1a9c_5135_11ec_be3e_0242ac1c0002row6_col2{\n",
              "            background-color:  #ffefa4;\n",
              "            color:  #000000;\n",
              "        }#T_611e1a9c_5135_11ec_be3e_0242ac1c0002row7_col0{\n",
              "            background-color:  #e9261f;\n",
              "            color:  #f1f1f1;\n",
              "        }#T_611e1a9c_5135_11ec_be3e_0242ac1c0002row7_col1{\n",
              "            background-color:  #e2191c;\n",
              "            color:  #f1f1f1;\n",
              "        }#T_611e1a9c_5135_11ec_be3e_0242ac1c0002row8_col0{\n",
              "            background-color:  #fa4a29;\n",
              "            color:  #000000;\n",
              "        }#T_611e1a9c_5135_11ec_be3e_0242ac1c0002row8_col1{\n",
              "            background-color:  #c90823;\n",
              "            color:  #f1f1f1;\n",
              "        }#T_611e1a9c_5135_11ec_be3e_0242ac1c0002row8_col2{\n",
              "            background-color:  #860026;\n",
              "            color:  #f1f1f1;\n",
              "        }</style><table id=\"T_611e1a9c_5135_11ec_be3e_0242ac1c0002\" class=\"dataframe\"><thead>    <tr>        <th class=\"blank level0\" ></th>        <th class=\"col_heading level0 col0\" >Precision</th>        <th class=\"col_heading level0 col1\" >Recall</th>        <th class=\"col_heading level0 col2\" >F1score</th>    </tr>    <tr>        <th class=\"index_name level0\" >Algorithm</th>        <th class=\"blank\" ></th>        <th class=\"blank\" ></th>        <th class=\"blank\" ></th>    </tr></thead><tbody>\n",
              "                <tr>\n",
              "                        <th id=\"T_611e1a9c_5135_11ec_be3e_0242ac1c0002level0_row0\" class=\"row_heading level0 row0\" >Neural Network</th>\n",
              "                        <td id=\"T_611e1a9c_5135_11ec_be3e_0242ac1c0002row0_col0\" class=\"data row0 col0\" >0.990000</td>\n",
              "                        <td id=\"T_611e1a9c_5135_11ec_be3e_0242ac1c0002row0_col1\" class=\"data row0 col1\" >0.340000</td>\n",
              "                        <td id=\"T_611e1a9c_5135_11ec_be3e_0242ac1c0002row0_col2\" class=\"data row0 col2\" >0.510000</td>\n",
              "            </tr>\n",
              "            <tr>\n",
              "                        <th id=\"T_611e1a9c_5135_11ec_be3e_0242ac1c0002level0_row1\" class=\"row_heading level0 row1\" >Logistic Regression</th>\n",
              "                        <td id=\"T_611e1a9c_5135_11ec_be3e_0242ac1c0002row1_col0\" class=\"data row1 col0\" >0.530000</td>\n",
              "                        <td id=\"T_611e1a9c_5135_11ec_be3e_0242ac1c0002row1_col1\" class=\"data row1 col1\" >0.170000</td>\n",
              "                        <td id=\"T_611e1a9c_5135_11ec_be3e_0242ac1c0002row1_col2\" class=\"data row1 col2\" >0.260000</td>\n",
              "            </tr>\n",
              "            <tr>\n",
              "                        <th id=\"T_611e1a9c_5135_11ec_be3e_0242ac1c0002level0_row2\" class=\"row_heading level0 row2\" >SVM</th>\n",
              "                        <td id=\"T_611e1a9c_5135_11ec_be3e_0242ac1c0002row2_col0\" class=\"data row2 col0\" >0.380000</td>\n",
              "                        <td id=\"T_611e1a9c_5135_11ec_be3e_0242ac1c0002row2_col1\" class=\"data row2 col1\" >0.010000</td>\n",
              "                        <td id=\"T_611e1a9c_5135_11ec_be3e_0242ac1c0002row2_col2\" class=\"data row2 col2\" >0.030000</td>\n",
              "            </tr>\n",
              "            <tr>\n",
              "                        <th id=\"T_611e1a9c_5135_11ec_be3e_0242ac1c0002level0_row3\" class=\"row_heading level0 row3\" >KNN</th>\n",
              "                        <td id=\"T_611e1a9c_5135_11ec_be3e_0242ac1c0002row3_col0\" class=\"data row3 col0\" >0.940000</td>\n",
              "                        <td id=\"T_611e1a9c_5135_11ec_be3e_0242ac1c0002row3_col1\" class=\"data row3 col1\" >0.560000</td>\n",
              "                        <td id=\"T_611e1a9c_5135_11ec_be3e_0242ac1c0002row3_col2\" class=\"data row3 col2\" >0.700000</td>\n",
              "            </tr>\n",
              "            <tr>\n",
              "                        <th id=\"T_611e1a9c_5135_11ec_be3e_0242ac1c0002level0_row4\" class=\"row_heading level0 row4\" >Neural Network after Balancing</th>\n",
              "                        <td id=\"T_611e1a9c_5135_11ec_be3e_0242ac1c0002row4_col0\" class=\"data row4 col0\" >0.880000</td>\n",
              "                        <td id=\"T_611e1a9c_5135_11ec_be3e_0242ac1c0002row4_col1\" class=\"data row4 col1\" >0.580000</td>\n",
              "                        <td id=\"T_611e1a9c_5135_11ec_be3e_0242ac1c0002row4_col2\" class=\"data row4 col2\" >0.700000</td>\n",
              "            </tr>\n",
              "            <tr>\n",
              "                        <th id=\"T_611e1a9c_5135_11ec_be3e_0242ac1c0002level0_row5\" class=\"row_heading level0 row5\" >Logistic Regression after Balancing</th>\n",
              "                        <td id=\"T_611e1a9c_5135_11ec_be3e_0242ac1c0002row5_col0\" class=\"data row5 col0\" >0.080000</td>\n",
              "                        <td id=\"T_611e1a9c_5135_11ec_be3e_0242ac1c0002row5_col1\" class=\"data row5 col1\" >0.930000</td>\n",
              "                        <td id=\"T_611e1a9c_5135_11ec_be3e_0242ac1c0002row5_col2\" class=\"data row5 col2\" >0.150000</td>\n",
              "            </tr>\n",
              "            <tr>\n",
              "                        <th id=\"T_611e1a9c_5135_11ec_be3e_0242ac1c0002level0_row6\" class=\"row_heading level0 row6\" >SVM after Balancing</th>\n",
              "                        <td id=\"T_611e1a9c_5135_11ec_be3e_0242ac1c0002row6_col0\" class=\"data row6 col0\" >0.060000</td>\n",
              "                        <td id=\"T_611e1a9c_5135_11ec_be3e_0242ac1c0002row6_col1\" class=\"data row6 col1\" >0.970000</td>\n",
              "                        <td id=\"T_611e1a9c_5135_11ec_be3e_0242ac1c0002row6_col2\" class=\"data row6 col2\" >0.110000</td>\n",
              "            </tr>\n",
              "            <tr>\n",
              "                        <th id=\"T_611e1a9c_5135_11ec_be3e_0242ac1c0002level0_row7\" class=\"row_heading level0 row7\" >KNN after Balancing</th>\n",
              "                        <td id=\"T_611e1a9c_5135_11ec_be3e_0242ac1c0002row7_col0\" class=\"data row7 col0\" >0.730000</td>\n",
              "                        <td id=\"T_611e1a9c_5135_11ec_be3e_0242ac1c0002row7_col1\" class=\"data row7 col1\" >0.730000</td>\n",
              "                        <td id=\"T_611e1a9c_5135_11ec_be3e_0242ac1c0002row7_col2\" class=\"data row7 col2\" >0.730000</td>\n",
              "            </tr>\n",
              "            <tr>\n",
              "                        <th id=\"T_611e1a9c_5135_11ec_be3e_0242ac1c0002level0_row8\" class=\"row_heading level0 row8\" >Ensemble concept after Balancing</th>\n",
              "                        <td id=\"T_611e1a9c_5135_11ec_be3e_0242ac1c0002row8_col0\" class=\"data row8 col0\" >0.650000</td>\n",
              "                        <td id=\"T_611e1a9c_5135_11ec_be3e_0242ac1c0002row8_col1\" class=\"data row8 col1\" >0.810000</td>\n",
              "                        <td id=\"T_611e1a9c_5135_11ec_be3e_0242ac1c0002row8_col2\" class=\"data row8 col2\" >0.720000</td>\n",
              "            </tr>\n",
              "    </tbody></table>"
            ],
            "text/plain": [
              "<pandas.io.formats.style.Styler at 0x7fa5792cc150>"
            ]
          },
          "metadata": {},
          "execution_count": 109
        }
      ]
    },
    {
      "cell_type": "markdown",
      "metadata": {
        "id": "HAV6ArSEQ0xd"
      },
      "source": [
        "As you see After Blancing the dataset Ensemble concept and KNN model do the best !"
      ]
    }
  ]
}